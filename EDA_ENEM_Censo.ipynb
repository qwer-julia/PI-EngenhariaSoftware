# EDA_ENEM_Censo.ipynb

# ======================================
# 1. Setup
# ======================================
import pandas as pd
import seaborn as sns
import matplotlib.pyplot as plt

# Carregar parquet pré-processado (via ETL em PySpark)
enem = pd.read_parquet("enem_censo.parquet")

enem.head()
