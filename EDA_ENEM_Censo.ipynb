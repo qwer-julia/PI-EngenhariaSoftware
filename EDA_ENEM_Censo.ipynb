# EDA_ENEM_Censo.ipynb

# ======================================
# 1. Setup
# ======================================
import pandas as pd
import seaborn as sns
import matplotlib.pyplot as plt

# Carregar parquet pré-processado (via ETL em PySpark)
enem = pd.read_parquet("enem_censo.parquet")

enem.head()

# Distribuição das notas de Matemática
sns.histplot(enem["NU_NOTA_MT"], bins=50, kde=True)
plt.title("Distribuição - Nota de Matemática")
plt.show()

# Perfil socioeconômico: renda x nota
sns.boxplot(x="Q001", y="NU_NOTA_MT", data=enem)  # Q001 = escolaridade dos pais (exemplo)
plt.xticks(rotation=45)
plt.title("Relação Escolaridade dos Pais x Nota Matemática")
plt.show()

# Selecionar apenas colunas numéricas
num_cols = enem.select_dtypes(include="number")

# Matriz de correlação
plt.figure(figsize=(12,8))
sns.heatmap(num_cols.corr(), cmap="coolwarm", center=0)
plt.title("Mapa de Correlação")
plt.show()
